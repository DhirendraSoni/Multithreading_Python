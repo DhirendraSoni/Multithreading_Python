{
 "cells": [
  {
   "cell_type": "markdown",
   "metadata": {},
   "source": [
    "Multithreading in Python"
   ]
  },
  {
   "cell_type": "code",
   "execution_count": 5,
   "metadata": {},
   "outputs": [
    {
     "name": "stdout",
     "output_type": "stream",
     "text": [
      "child thread...\n",
      "child thread...\n",
      "child thread...\n",
      "child thread...\n",
      "child thread...\n",
      "child thread...\n",
      "child thread...\n",
      "child thread...\n",
      "child thread...\n",
      "child thread...\n",
      "Main Thread...\n",
      "Main Thread...\n",
      "Main Thread...\n",
      "Main Thread...\n",
      "Main Thread...\n",
      "Main Thread...\n",
      "Main Thread...\n",
      "Main Thread...\n",
      "Main Thread...\n",
      "Main Thread...\n"
     ]
    }
   ],
   "source": [
    "## Simple thread program for understanding the concept of thread in python\n",
    "from threading import *\n",
    "\n",
    "class MyThread(Thread):\n",
    "    def run(self):\n",
    "        for i in range(10):\n",
    "            print(\"child thread...\")\n",
    "\n",
    "\n",
    "obj= MyThread()\n",
    "t=MyThread(target=obj.run)\n",
    "t.start()\n",
    "\n",
    "for i in range(10):\n",
    "    print(\"Main Thread...\")\n",
    "\n",
    "\n"
   ]
  },
  {
   "cell_type": "markdown",
   "metadata": {},
   "source": [
    "## Thread using the main class \n",
    "\n",
    "\n"
   ]
  },
  {
   "cell_type": "code",
   "execution_count": 58,
   "metadata": {},
   "outputs": [
    {
     "name": "stdout",
     "output_type": "stream",
     "text": [
      "child thread-1...\n",
      "Main Thread...\n",
      "Main Thread...\n",
      "Main Thread...\n",
      "Main Thread...\n",
      "Main Thread...\n"
     ]
    }
   ],
   "source": [
    "## Join method is used to wait for the thread to complete its execution\n",
    "from threading import *\n",
    "import time\n",
    "class MyThread(Thread):\n",
    "    def run(self):\n",
    "        for i in range(5):\n",
    "            print(\"child thread-1...\")\n",
    "            time.sleep(1)\n",
    "\n",
    "\n",
    "if __name__ == \"__main__\":\n",
    "    obj = MyThread()\n",
    "    t=Thread(target=obj.run)\n",
    "    t.start()  ## It will Start the child thread\n",
    "    for i in range(5):\n",
    "        print(\"Main Thread...\")   \n",
    "\n"
   ]
  },
  {
   "cell_type": "markdown",
   "metadata": {},
   "source": [
    "**Thread and thread methods usage \n",
    "start(), join(), join(time_in_seconds), is_alive, enumerate, current_thread.name, current_thread().ident**"
   ]
  },
  {
   "cell_type": "code",
   "execution_count": 60,
   "metadata": {},
   "outputs": [
    {
     "name": "stdout",
     "output_type": "stream",
     "text": [
      "Begin time : 1738496334.2173474\n",
      "Current thread Active counts==>  6\n",
      "t1 is alive==>  False\n",
      "child_thread_1 name==>  Thread-425 (double)\n",
      "child_thread_1 name changed to ==>  Child_1\n",
      "child_thread_1 name changed to ==>  Child_1_using_setName\n",
      "child_thread_1 identification number==>  53672\n",
      "t1 is alive==>  True\n",
      "child_thread_2 name==>  Thread-426 (square)\n"
     ]
    },
    {
     "name": "stderr",
     "output_type": "stream",
     "text": [
      "C:\\Users\\dhire\\AppData\\Local\\Temp\\ipykernel_36708\\3681107693.py:6: DeprecationWarning: setName() is deprecated, set the name attribute instead\n",
      "  current_thread().setName(\"Child_1_using_setName\")\n"
     ]
    },
    {
     "name": "stdout",
     "output_type": "stream",
     "text": [
      "Double value : 2\n",
      "Squrae value : 1\n",
      "Double value : 4\n",
      "Squrae value : 4\n",
      "Double value :Squrae value : 9\n",
      " 6\n",
      "Double value :Squrae value : 16\n",
      " 8\n",
      "Double value :Squrae value : 25\n",
      " 10\n",
      "End time 5.00653076171875\n"
     ]
    }
   ],
   "source": [
    "##Calcultes time \n",
    "def double(numbers):\n",
    "    print(\"child_thread_1 name==> \", current_thread().name)\n",
    "    current_thread().name = \"Child_1\"  ## or you can use current_thread().setName(\"chiled_1\")\n",
    "    print(\"child_thread_1 name changed to ==> \", current_thread().name)\n",
    "    current_thread().setName(\"Child_1_using_setName\")\n",
    "    print(\"child_thread_1 name changed to ==> \", current_thread().name)\n",
    "    print(\"child_thread_1 identification number==> \", current_thread().ident)\n",
    "\n",
    "    for n in numbers:\n",
    "        time.sleep(1)\n",
    "        print(\"Double value :\",2*n)\n",
    "        \n",
    "\n",
    "def square(numbers):\n",
    "    print(\"child_thread_2 name==> \", current_thread().name)\n",
    "    for n in numbers:\n",
    "        time.sleep(1)\n",
    "        print(\"Squrae value :\", n*n)        \n",
    "\n",
    "numbers = [1,2,3,4,5]\n",
    "begin_time = time.time()\n",
    "print(\"Begin time :\",begin_time)\n",
    "\n",
    "t1 = Thread(target=double, args=(numbers,))\n",
    "t2 = Thread(target=square, args=(numbers,))\n",
    "print(\"Current thread Active counts==> \", active_count())\n",
    "\n",
    "print(\"t1 is alive==> \", t1.is_alive())\n",
    "\n",
    "t1.start()\n",
    "\n",
    "print(\"t1 is alive==> \", t1.is_alive())\n",
    "\n",
    "t2.start()\n",
    "t1.join()  ## It will wait for the thread to complete its execution\n",
    "t2.join(2)  ## veryy important It will wait for 2 seconds\n",
    "end_time = time.time()-begin_time\n",
    "print(\"End time\",end_time)\n"
   ]
  },
  {
   "cell_type": "code",
   "execution_count": null,
   "metadata": {},
   "outputs": [],
   "source": []
  }
 ],
 "metadata": {
  "kernelspec": {
   "display_name": "python3126",
   "language": "python",
   "name": "python3"
  },
  "language_info": {
   "codemirror_mode": {
    "name": "ipython",
    "version": 3
   },
   "file_extension": ".py",
   "mimetype": "text/x-python",
   "name": "python",
   "nbconvert_exporter": "python",
   "pygments_lexer": "ipython3",
   "version": "3.12.7"
  }
 },
 "nbformat": 4,
 "nbformat_minor": 2
}
